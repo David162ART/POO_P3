{
 "cells": [
  {
   "cell_type": "markdown",
   "id": "b205bfb3",
   "metadata": {},
   "source": [
    "## Introduccion "
   ]
  },
  {
   "cell_type": "code",
   "execution_count": null,
   "id": "c287f867",
   "metadata": {},
   "outputs": [],
   "source": [
    "numero = 123\n",
    "titular = \"Anacleto Metralla\"\n",
    "saldo = 100.0\n",
    "limite = 1000.0\n"
   ]
  },
  {
   "cell_type": "code",
   "execution_count": null,
   "id": "f044dc3b",
   "metadata": {},
   "outputs": [],
   "source": [
    "cuenta = {\"numero\":123,\"titular\":\"Anacleto Metralla\",\"saldo\":100.0,\"limite\":1000.0}"
   ]
  },
  {
   "cell_type": "code",
   "execution_count": null,
   "id": "a0d831dc",
   "metadata": {},
   "outputs": [],
   "source": [
    "cuenta[\"numero\"]"
   ]
  },
  {
   "cell_type": "code",
   "execution_count": null,
   "id": "62889f3f",
   "metadata": {},
   "outputs": [],
   "source": [
    "cuenta[\"saldo\"]"
   ]
  },
  {
   "cell_type": "code",
   "execution_count": null,
   "id": "9d31aead",
   "metadata": {},
   "outputs": [],
   "source": [
    "cuenta2 = {\"numero\":321,\"titular\":\"Rosa Flores Rojas\",\"saldo\":200.0,\"limite\":2000.0}"
   ]
  },
  {
   "cell_type": "code",
   "execution_count": null,
   "id": "18680134",
   "metadata": {},
   "outputs": [],
   "source": [
    "##Mediante el uso de na funcion "
   ]
  },
  {
   "cell_type": "code",
   "execution_count": null,
   "id": "0f34b5af",
   "metadata": {},
   "outputs": [],
   "source": [
    "from test import crear_cuenta\n",
    "cuenta = crear_cuenta(123,\"Anacleto Metralla\", 100.0, 1000.0)"
   ]
  },
  {
   "cell_type": "code",
   "execution_count": null,
   "id": "5bb8f7f3",
   "metadata": {},
   "outputs": [],
   "source": [
    "cuenta[\"numero\"]"
   ]
  },
  {
   "cell_type": "code",
   "execution_count": null,
   "id": "3f79ce94",
   "metadata": {},
   "outputs": [],
   "source": [
    "cuenta[\"titular\"]"
   ]
  },
  {
   "cell_type": "markdown",
   "id": "503d45ce",
   "metadata": {},
   "source": [
    "# Vamos a crear una nueva funcionalidad en nuestro archivo:test.py "
   ]
  },
  {
   "cell_type": "code",
   "execution_count": null,
   "id": "aabb9d48",
   "metadata": {},
   "outputs": [],
   "source": [
    "def depositar(cuenta,valor):\n",
    "    cuenta[\"saldo\"] = cuenta[\"saldo\"]+valor\n",
    "\n",
    "    \n",
    "def retirar(cuenta, valor):\n",
    "    cuenta[\"saldo\"] = cuenta [\"saldo\"] -valor\n",
    "    \n",
    "    \n",
    "def extracto(cuenta):\n",
    "    print(\"saldo actual es de Bs.{}\".format(cuenta[\"saldo\"]))"
   ]
  },
  {
   "cell_type": "markdown",
   "id": "90c6a4b4",
   "metadata": {},
   "source": [
    "#Vamos a probar nuestra implementacion...."
   ]
  },
  {
   "cell_type": "code",
   "execution_count": null,
   "id": "56e7828c",
   "metadata": {},
   "outputs": [],
   "source": []
  },
  {
   "cell_type": "code",
   "execution_count": null,
   "id": "38d1613b",
   "metadata": {},
   "outputs": [],
   "source": [
    "from test import crear_cuenta, depositar, retirar, extracto\n",
    "cuenta = crear_cuenta(123, \"Anacleto Metralla\", 100.0, 1000.0)\n",
    "depositar (cuenta, 30)\n",
    "extracto(cuenta)"
   ]
  },
  {
   "cell_type": "code",
   "execution_count": null,
   "id": "dc78129a",
   "metadata": {},
   "outputs": [],
   "source": [
    "retirar(cuenta,50)\n",
    "extracto(cuenta)"
   ]
  },
  {
   "cell_type": "markdown",
   "id": "921ba1b7",
   "metadata": {},
   "source": [
    "# ...Pero no hay una fuerte conexion(control)entre \n",
    "# cuenta y sus funcionalidades....ejemplo"
   ]
  },
  {
   "cell_type": "code",
   "execution_count": null,
   "id": "1c01f82d",
   "metadata": {},
   "outputs": [],
   "source": [
    "cuenta[\"saldo\"] = cuenta[\"saldo\"] + 120\n",
    "cuenta[\"saldo\"]"
   ]
  },
  {
   "cell_type": "code",
   "execution_count": null,
   "id": "05355b9f",
   "metadata": {},
   "outputs": [],
   "source": [
    "cuenta2 = {\"numero\" :321, \"saldo\": 400}"
   ]
  },
  {
   "cell_type": "code",
   "execution_count": null,
   "id": "d0b0abc4",
   "metadata": {},
   "outputs": [],
   "source": [
    "depositar(cuenta2, 100)\n",
    "extracto(cuenta2)"
   ]
  },
  {
   "cell_type": "code",
   "execution_count": null,
   "id": "82600c79",
   "metadata": {},
   "outputs": [],
   "source": [
    "cuenta2[\"titular\"]"
   ]
  },
  {
   "cell_type": "markdown",
   "id": "183f7a47",
   "metadata": {},
   "source": [
    "# ..y de la misma manera podriamos hacer con las otra funcionalidades\n",
    "# vamos a crear un nuevo archivo "
   ]
  },
  {
   "cell_type": "markdown",
   "id": "7a4e9f3d",
   "metadata": {},
   "source": [
    "# PROGRAMACION ORIENTADA A OBJETOS"
   ]
  },
  {
   "cell_type": "code",
   "execution_count": null,
   "id": "3042e382",
   "metadata": {},
   "outputs": [],
   "source": [
    "class Cuenta:\n",
    "    pass"
   ]
  },
  {
   "cell_type": "code",
   "execution_count": null,
   "id": "1f9c2139",
   "metadata": {},
   "outputs": [],
   "source": [
    "from cuenta import Cuenta \n",
    "Cuenta()\n"
   ]
  },
  {
   "cell_type": "code",
   "execution_count": null,
   "id": "e531a97e",
   "metadata": {},
   "outputs": [],
   "source": [
    "cuenta = Cuenta()\n",
    "cuenta"
   ]
  },
  {
   "cell_type": "markdown",
   "id": "2f1248b4",
   "metadata": {},
   "source": [
    "# VAMOS A IMPLEMENTAR NUESTRA CLASE... CUENTA\n"
   ]
  },
  {
   "cell_type": "code",
   "execution_count": null,
   "id": "0b724c49",
   "metadata": {},
   "outputs": [],
   "source": [
    "class Cuenta:\n",
    "    def __init__(self):\n",
    "        print(\"Construyendo el objeto...\")"
   ]
  },
  {
   "cell_type": "code",
   "execution_count": null,
   "id": "5b4e3310",
   "metadata": {},
   "outputs": [],
   "source": [
    "from cuenta import Cuenta \n",
    "cuenta = Cuenta()"
   ]
  },
  {
   "cell_type": "markdown",
   "id": "63163bb9",
   "metadata": {},
   "source": [
    "# VAMOS A COMENZAR A DEFINIR LOS ....ATRIBUTOS.."
   ]
  },
  {
   "cell_type": "code",
   "execution_count": null,
   "id": "9a7a355d",
   "metadata": {},
   "outputs": [],
   "source": [
    "class Cuenta:\n",
    "    def __init__(self):\n",
    "        print(\"Construyendo el objeto...{}\".format(self))"
   ]
  },
  {
   "cell_type": "code",
   "execution_count": null,
   "id": "abe31e5b",
   "metadata": {},
   "outputs": [],
   "source": [
    "from cuenta import Cuenta \n",
    "cuenta = Cuenta()"
   ]
  },
  {
   "cell_type": "markdown",
   "id": "efd934e3",
   "metadata": {},
   "source": [
    "# Self es la referencia que sabe encontrar el objeto construido "
   ]
  },
  {
   "cell_type": "code",
   "execution_count": null,
   "id": "fff2e5ad",
   "metadata": {},
   "outputs": [],
   "source": [
    "class Cuenta:\n",
    "    def __init__(self):\n",
    "        print(\"Construyendo el objeto...{}\".format(self))\n",
    "        self.numero = 123\n",
    "        self.titular = \"Anacleto Metralla\"\n",
    "        self.saldo = 100.0\n",
    "        self.limite = 1000.0"
   ]
  },
  {
   "cell_type": "markdown",
   "id": "57863b36",
   "metadata": {},
   "source": [
    "# PODEMOS ASIGANR PARAMETROS A NUESTRA CLASE, AL MOMENTO DE CREAR UN OBJETO "
   ]
  },
  {
   "cell_type": "code",
   "execution_count": 1,
   "id": "43956043",
   "metadata": {},
   "outputs": [],
   "source": [
    "class Cuenta:\n",
    "    def __init__(self, numero, titular, saldo, limite):\n",
    "        print(\"Construyendo el objeto...{}\".format(self))\n",
    "        self.numero = numero\n",
    "        self.titular = titular \n",
    "        self.saldo = saldo\n",
    "        self.limite = limite"
   ]
  },
  {
   "cell_type": "code",
   "execution_count": 2,
   "id": "9ea625c3",
   "metadata": {},
   "outputs": [
    {
     "name": "stdout",
     "output_type": "stream",
     "text": [
      "Construyendo el objeto...<cuenta.Cuenta object at 0x000001DC5EDA9FD0>\n"
     ]
    }
   ],
   "source": [
    "from cuenta import Cuenta\n",
    "cuenta = Cuenta(123, \"Anacleto Metralla\", 100.0, 1000.0)"
   ]
  },
  {
   "cell_type": "code",
   "execution_count": 3,
   "id": "d14fa2df",
   "metadata": {},
   "outputs": [
    {
     "name": "stdout",
     "output_type": "stream",
     "text": [
      "Construyendo el objeto...<cuenta.Cuenta object at 0x000001DC5EDA9820>\n"
     ]
    }
   ],
   "source": [
    "cuenta2 = Cuenta (321, \"Rosas Flores Rojas\",65.0, 1000.0 )"
   ]
  },
  {
   "cell_type": "code",
   "execution_count": 4,
   "id": "02226b73",
   "metadata": {},
   "outputs": [
    {
     "data": {
      "text/plain": [
       "<cuenta.Cuenta at 0x1dc5eda9fd0>"
      ]
     },
     "execution_count": 4,
     "metadata": {},
     "output_type": "execute_result"
    }
   ],
   "source": [
    "cuenta "
   ]
  },
  {
   "cell_type": "code",
   "execution_count": 5,
   "id": "650101bd",
   "metadata": {},
   "outputs": [
    {
     "data": {
      "text/plain": [
       "<cuenta.Cuenta at 0x1dc5eda9820>"
      ]
     },
     "execution_count": 5,
     "metadata": {},
     "output_type": "execute_result"
    }
   ],
   "source": [
    "cuenta2"
   ]
  },
  {
   "cell_type": "code",
   "execution_count": null,
   "id": "2eab767d",
   "metadata": {},
   "outputs": [],
   "source": []
  }
 ],
 "metadata": {
  "kernelspec": {
   "display_name": "Python 3 (ipykernel)",
   "language": "python",
   "name": "python3"
  },
  "language_info": {
   "codemirror_mode": {
    "name": "ipython",
    "version": 3
   },
   "file_extension": ".py",
   "mimetype": "text/x-python",
   "name": "python",
   "nbconvert_exporter": "python",
   "pygments_lexer": "ipython3",
   "version": "3.9.13"
  }
 },
 "nbformat": 4,
 "nbformat_minor": 5
}
