{
 "cells": [
  {
   "cell_type": "markdown",
   "id": "b205bfb3",
   "metadata": {},
   "source": [
    "## Introduccion "
   ]
  },
  {
   "cell_type": "code",
   "execution_count": null,
   "id": "c287f867",
   "metadata": {},
   "outputs": [],
   "source": [
    "numero = 123\n",
    "titular = \"Anacleto Metralla\"\n",
    "saldo = 100.0\n",
    "limite = 1000.0\n"
   ]
  },
  {
   "cell_type": "code",
   "execution_count": null,
   "id": "f044dc3b",
   "metadata": {},
   "outputs": [],
   "source": [
    "cuenta = {\"numero\":123,\"titular\":\"Anacleto Metralla\",\"saldo\":100.0,\"limite\":1000.0}"
   ]
  },
  {
   "cell_type": "code",
   "execution_count": null,
   "id": "a0d831dc",
   "metadata": {},
   "outputs": [],
   "source": [
    "cuenta[\"numero\"]"
   ]
  },
  {
   "cell_type": "code",
   "execution_count": null,
   "id": "62889f3f",
   "metadata": {},
   "outputs": [],
   "source": [
    "cuenta[\"saldo\"]"
   ]
  },
  {
   "cell_type": "code",
   "execution_count": null,
   "id": "9d31aead",
   "metadata": {},
   "outputs": [],
   "source": [
    "cuenta2 = {\"numero\":321,\"titular\":\"Rosa Flores Rojas\",\"saldo\":200.0,\"limite\":2000.0}"
   ]
  },
  {
   "cell_type": "code",
   "execution_count": null,
   "id": "18680134",
   "metadata": {},
   "outputs": [],
   "source": [
    "##Mediante el uso de na funcion "
   ]
  },
  {
   "cell_type": "code",
   "execution_count": null,
   "id": "0f34b5af",
   "metadata": {},
   "outputs": [],
   "source": [
    "from test import crear_cuenta\n",
    "cuenta = crear_cuenta(123,\"Anacleto Metralla\", 100.0, 1000.0)"
   ]
  },
  {
   "cell_type": "code",
   "execution_count": null,
   "id": "5bb8f7f3",
   "metadata": {},
   "outputs": [],
   "source": [
    "cuenta[\"numero\"]"
   ]
  },
  {
   "cell_type": "code",
   "execution_count": null,
   "id": "3f79ce94",
   "metadata": {},
   "outputs": [],
   "source": [
    "cuenta[\"titular\"]"
   ]
  },
  {
   "cell_type": "markdown",
   "id": "4d3a9b97",
   "metadata": {},
   "source": [
    "# Vamos a crear una nueva funcionalidad en nuestro archivo:test.py "
   ]
  },
  {
   "cell_type": "code",
   "execution_count": null,
   "id": "aabb9d48",
   "metadata": {},
   "outputs": [],
   "source": [
    "def depositar(cuenta,valor):\n",
    "    cuenta[\"saldo\"] = cuenta[\"saldo\"]+valor\n",
    "\n",
    "    \n",
    "def retirar(cuenta, valor):\n",
    "    cuenta[\"saldo\"] = cuenta [\"saldo\"] -valor\n",
    "    \n",
    "    \n",
    "def extracto(cuenta):\n",
    "    print(\"saldo actual es de Bs.{}\".format(cuenta[\"saldo\"]))"
   ]
  },
  {
   "cell_type": "markdown",
   "id": "edab5ef3",
   "metadata": {},
   "source": [
    "#Vamos a probar nuestra implementacion...."
   ]
  },
  {
   "cell_type": "code",
   "execution_count": null,
   "id": "e6768f85",
   "metadata": {},
   "outputs": [],
   "source": []
  },
  {
   "cell_type": "code",
   "execution_count": null,
   "id": "38d1613b",
   "metadata": {},
   "outputs": [],
   "source": [
    "from test import crear_cuenta, depositar, retirar, extracto\n",
    "cuenta = crear_cuenta(123, \"Anacleto Metralla\", 100.0, 1000.0)\n",
    "depositar (cuenta, 30)\n",
    "extracto(cuenta)"
   ]
  },
  {
   "cell_type": "code",
   "execution_count": null,
   "id": "dc78129a",
   "metadata": {},
   "outputs": [],
   "source": [
    "retirar(cuenta,50)\n",
    "extracto(cuenta)"
   ]
  },
  {
   "cell_type": "markdown",
   "id": "f75fe800",
   "metadata": {},
   "source": [
    "# ...Pero no hay una fuerte conexion(control)entre \n",
    "# cuenta y sus funcionalidades....ejemplo"
   ]
  },
  {
   "cell_type": "code",
   "execution_count": null,
   "id": "1c01f82d",
   "metadata": {},
   "outputs": [],
   "source": [
    "cuenta[\"saldo\"] = cuenta[\"saldo\"] + 120\n",
    "cuenta[\"saldo\"]"
   ]
  },
  {
   "cell_type": "code",
   "execution_count": null,
   "id": "05355b9f",
   "metadata": {},
   "outputs": [],
   "source": [
    "cuenta2 = {\"numero\" :321, \"saldo\": 400}"
   ]
  },
  {
   "cell_type": "code",
   "execution_count": null,
   "id": "d0b0abc4",
   "metadata": {},
   "outputs": [],
   "source": [
    "depositar(cuenta2, 100)\n",
    "extracto(cuenta2)"
   ]
  },
  {
   "cell_type": "code",
   "execution_count": null,
   "id": "82600c79",
   "metadata": {},
   "outputs": [],
   "source": [
    "cuenta2[\"titular\"]"
   ]
  },
  {
   "cell_type": "markdown",
   "id": "9242c0f0",
   "metadata": {},
   "source": [
    "# ..y de la misma manera podriamos hacer con las otra funcionalidades\n",
    "# vamos a crear un nuevo archivo "
   ]
  },
  {
   "cell_type": "markdown",
   "id": "f2001915",
   "metadata": {},
   "source": [
    "# PROGRAMACION ORIENTADA A OBJETOS"
   ]
  },
  {
   "cell_type": "code",
   "execution_count": null,
   "id": "3042e382",
   "metadata": {},
   "outputs": [],
   "source": [
    "class Cuenta:\n",
    "    pass"
   ]
  },
  {
   "cell_type": "code",
   "execution_count": null,
   "id": "1f9c2139",
   "metadata": {},
   "outputs": [],
   "source": [
    "from cuenta import Cuenta \n",
    "Cuenta()\n"
   ]
  },
  {
   "cell_type": "code",
   "execution_count": null,
   "id": "e531a97e",
   "metadata": {},
   "outputs": [],
   "source": [
    "cuenta = Cuenta()\n",
    "cuenta"
   ]
  },
  {
   "cell_type": "markdown",
   "id": "6f727222",
   "metadata": {},
   "source": [
    "# VAMOS A IMPLEMENTAR NUESTRA CLASE... CUENTA\n"
   ]
  },
  {
   "cell_type": "code",
   "execution_count": 2,
   "id": "f6cadf51",
   "metadata": {},
   "outputs": [],
   "source": [
    "class Cuenta:\n",
    "    def __init__(self):\n",
    "        print(\"Construyendo el objeto...\")"
   ]
  },
  {
   "cell_type": "code",
   "execution_count": 3,
   "id": "4cc966cb",
   "metadata": {},
   "outputs": [
    {
     "name": "stdout",
     "output_type": "stream",
     "text": [
      "Construyendo el objeto...\n"
     ]
    }
   ],
   "source": [
    "from cuenta import Cuenta \n",
    "cuenta = Cuenta()"
   ]
  },
  {
   "cell_type": "code",
   "execution_count": null,
   "id": "5c0c449e",
   "metadata": {},
   "outputs": [],
   "source": []
  }
 ],
 "metadata": {
  "kernelspec": {
   "display_name": "Python 3 (ipykernel)",
   "language": "python",
   "name": "python3"
  },
  "language_info": {
   "codemirror_mode": {
    "name": "ipython",
    "version": 3
   },
   "file_extension": ".py",
   "mimetype": "text/x-python",
   "name": "python",
   "nbconvert_exporter": "python",
   "pygments_lexer": "ipython3",
   "version": "3.9.13"
  }
 },
 "nbformat": 4,
 "nbformat_minor": 5
}
